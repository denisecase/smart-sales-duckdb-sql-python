{
 "cells": [
  {
   "cell_type": "markdown",
   "id": "d1229892",
   "metadata": {},
   "source": [
    "# Data Analysis Using DuckDB\n",
    "\n",
    "Purpose: Explore realistic sales data using DuckDB for our data warehouse.\n",
    "\n",
    "Important: Set the Jupyter kernel to .venv/Scripts/python.exe (our local Python) so it can find the external packages we installed into our local project .venv."
   ]
  },
  {
   "cell_type": "code",
   "execution_count": 15,
   "id": "b63a3cd0",
   "metadata": {},
   "outputs": [
    {
     "name": "stdout",
     "output_type": "stream",
     "text": [
      "Verify Project Paths - check these to ensure they are correct\n",
      "Root Folder:  c:\\Users\\edaci\\Documents\\smart-sales-duckdb-sql-python\n",
      "DW  Folder:   c:\\Users\\edaci\\Documents\\smart-sales-duckdb-sql-python\\dw\n",
      "NB  Folder:   c:\\Users\\edaci\\Documents\\smart-sales-duckdb-sql-python\\notebooks\n",
      "SQL Folder:   c:\\Users\\edaci\\Documents\\smart-sales-duckdb-sql-python\\sql\n",
      "DW File:      c:\\Users\\edaci\\Documents\\smart-sales-duckdb-sql-python\\dw\\sales.duckdb\n",
      "SQL File:     c:\\Users\\edaci\\Documents\\smart-sales-duckdb-sql-python\\sql\\22_sales_summary_by_category.sql\n"
     ]
    }
   ],
   "source": [
    "# Imports from Python Standard Library \n",
    "from pathlib import Path\n",
    "\n",
    "# Imports from external packages (see requirements.txt)\n",
    "# Create a local .venv and be sure these are installed.\n",
    "# Select the VS Code Python interpreter from the .venv folder.\n",
    "# Select the Jupyter kernel from the .venv folder.\n",
    "import duckdb\n",
    "import pandas as pd\n",
    "import matplotlib.pyplot as plt\n",
    "import seaborn as sns\n",
    "\n",
    "# Define project paths as constants\n",
    "ROOT_PROJECT_FOLDER = Path.cwd().parent  # Up one level this folder\n",
    "DW_FOLDER = ROOT_PROJECT_FOLDER / 'dw'\n",
    "NOTEBOOKS_FOLDER = ROOT_PROJECT_FOLDER / 'notebooks'\n",
    "SQL_FOLDER = ROOT_PROJECT_FOLDER / 'sql'\n",
    "DW_FILE = DW_FOLDER / 'sales.duckdb'\n",
    "SALES_SUMMARY_SQL_FILE = SQL_FOLDER / '22_sales_summary_by_category.sql'\n",
    "print(\"Verify Project Paths - check these to ensure they are correct\")\n",
    "print(f\"Root Folder:  {ROOT_PROJECT_FOLDER}\")\n",
    "print(f\"DW  Folder:   {DW_FOLDER}\")\n",
    "print(f\"NB  Folder:   {NOTEBOOKS_FOLDER}\")\n",
    "print(f\"SQL Folder:   {SQL_FOLDER}\")\n",
    "print(f\"DW File:      {DW_FILE}\")\n",
    "print(f\"SQL File:     {SALES_SUMMARY_SQL_FILE}\")\n"
   ]
  },
  {
   "cell_type": "markdown",
   "id": "4a900bb6",
   "metadata": {},
   "source": [
    "## Step 1. Connect and Inspect"
   ]
  },
  {
   "cell_type": "code",
   "execution_count": 16,
   "id": "3c4523e1",
   "metadata": {},
   "outputs": [
    {
     "name": "stdout",
     "output_type": "stream",
     "text": [
      "Successfully connected to DuckDB database: c:\\Users\\edaci\\Documents\\smart-sales-duckdb-sql-python\\dw\\sales.duckdb\n",
      "\n",
      " Tables in the Database\n",
      "                      name\n",
      "0             dim_customer\n",
      "1                 dim_date\n",
      "2              dim_product\n",
      "3     dim_product_category\n",
      "4  dim_product_subcategory\n",
      "5            dim_promotion\n",
      "6                dim_store\n",
      "7               fact_sales\n"
     ]
    }
   ],
   "source": [
    "# Connect to DuckDB\n",
    "try:\n",
    "    conn = duckdb.connect(database=str(DW_FILE), read_only=True)\n",
    "    print(f\"Successfully connected to DuckDB database: {DW_FILE}\")\n",
    "except duckdb.Error as e:\n",
    "    print(f\"Error connecting to DuckDB: {e}\")\n",
    "    exit()\n",
    "\n",
    "# Inspect - use DuckDB SQL commands to SHOW TABLES\n",
    "print(\"\\n Tables in the Database\")\n",
    "tables_df = conn.execute(\"SHOW TABLES;\").fetchdf()\n",
    "print(tables_df)\n"
   ]
  },
  {
   "cell_type": "markdown",
   "id": "481a30fb",
   "metadata": {},
   "source": [
    "## Step 2. Use SQL To Get Summary Totals"
   ]
  },
  {
   "cell_type": "code",
   "execution_count": 17,
   "id": "7d034972",
   "metadata": {},
   "outputs": [
    {
     "name": "stdout",
     "output_type": "stream",
     "text": [
      "                        category  total_quantity  total_amount\n",
      "0                Home Appliances      10379472.0  3.922737e+09\n",
      "1                      Computers       7736223.0  2.621439e+09\n",
      "2        Cameras and camcorders        6351378.0  2.549018e+09\n",
      "3                   TV and Video       3449196.0  1.360121e+09\n",
      "4                    Cell phones      12670216.0  8.843510e+08\n",
      "5  Music, Movies and Audio Books       1523415.0  1.658047e+08\n",
      "6                          Audio       1353298.0  1.516144e+08\n",
      "7                 Games and Toys       3720669.0  3.244233e+07\n",
      "Successfully connected to DuckDB database: c:\\Users\\edaci\\Documents\\smart-sales-duckdb-sql-python\\dw\\sales.duckdb\n",
      "\n",
      "Successfully executed SQL script 'c:\\Users\\edaci\\Documents\\smart-sales-duckdb-sql-python\\sql\\22_sales_summary_by_category.sql'.\n",
      "                  category  total_quantity  total_amount\n",
      "0          Home Appliances      10379472.0  3.922737e+09\n",
      "1                Computers       7736223.0  2.621439e+09\n",
      "2  Cameras and camcorders        6351378.0  2.549018e+09\n",
      "3             TV and Video       3449196.0  1.360121e+09\n",
      "4              Cell phones      12670216.0  8.843510e+08\n",
      "\n",
      "Connection to DuckDB database closed.\n"
     ]
    }
   ],
   "source": [
    "# OPTION 1: USE SQL EXPLICITLY\n",
    "\n",
    "s = \"\"\"SELECT \n",
    "    dim_product_category.ProductCategoryName AS category,\n",
    "    SUM(fact_sales.SalesQuantity) AS total_quantity,\n",
    "    SUM(fact_sales.SalesAmount) AS total_amount\n",
    "FROM fact_sales\n",
    "JOIN dim_product ON fact_sales.ProductKey = dim_product.ProductKey\n",
    "JOIN dim_product_subcategory ON dim_product.ProductSubcategoryKey = dim_product_subcategory.ProductSubcategoryKey\n",
    "JOIN dim_product_category ON dim_product_subcategory.ProductCategoryKey = dim_product_category.ProductCategoryKey\n",
    "GROUP BY dim_product_category.ProductCategoryName\n",
    "ORDER BY total_amount DESC\n",
    "LIMIT 10;\n",
    "\"\"\"\n",
    "df = conn.execute(s).fetchdf()\n",
    "print(df)\n",
    "\n",
    "# OPTION 2: STORE SQL in a .sql FILE (RECOMMENDED)\n",
    "\n",
    "# Step 1:  Define a reuseable function to call a query and get a dataframe\n",
    "def get_dataframe_from_sql_file(sql_file_path: str, db_file_path: str) -> pd.DataFrame | None:\n",
    "    \"\"\"\n",
    "    Executes the SQL query from the specified file against the DuckDB database\n",
    "    and returns the result as a Pandas DataFrame.\n",
    "\n",
    "    Args:\n",
    "        sql_file_path: Path to the .sql file containing the SELECT query.\n",
    "        db_file_path: Path to the DuckDB database file.\n",
    "\n",
    "    Returns:\n",
    "        A Pandas DataFrame containing the query results, or None if an error occurs.\n",
    "    \"\"\"\n",
    "\n",
    "    try:\n",
    "        conn = duckdb.connect(database=str(db_file_path), read_only=True)\n",
    "        print(f\"Successfully connected to DuckDB database: {db_file_path}\")\n",
    "\n",
    "        with open(sql_file_path, 'r') as file:\n",
    "            sql_script = file.read().strip()\n",
    "            result = conn.execute(sql_script)\n",
    "\n",
    "            if result and result.description:\n",
    "                df = result.fetchdf()\n",
    "                print(f\"\\nSuccessfully executed SQL script '{sql_file_path}'.\")\n",
    "                print(df.head())  # Print the first few rows\n",
    "                return df\n",
    "            else:\n",
    "                print(f\"\\nSuccessfully executed SQL script '{sql_file_path}'. No data to display.\")\n",
    "                return None\n",
    "\n",
    "    except FileNotFoundError:\n",
    "        print(f\"Error: SQL file not found at {sql_file_path}\")\n",
    "        return None\n",
    "    except duckdb.Error as e:\n",
    "        print(f\"DuckDB Error while executing SQL: {e}\")\n",
    "        return None\n",
    "    except Exception as e:\n",
    "        print(f\"An unexpected error occurred: {e}\")\n",
    "        return None\n",
    "    finally:\n",
    "        if conn:\n",
    "            conn.close()\n",
    "            print(\"\\nConnection to DuckDB database closed.\")\n",
    "\n",
    "\n",
    "\n",
    "# Step 2: Call the function and get a DataFrame back \n",
    "# Bonus: now we can do this to call any .sql file. \n",
    "sales_df = get_dataframe_from_sql_file(SALES_SUMMARY_SQL_FILE, DW_FILE)\n",
    "if sales_df is None:\n",
    "    print(\"Could not retrieve DataFrame.\")\n",
    "    exit()\n",
    "\n"
   ]
  },
  {
   "cell_type": "markdown",
   "id": "53ecfa0f",
   "metadata": {},
   "source": [
    "## Step 3. Visualize the Sales Summary DataFrame"
   ]
  },
  {
   "cell_type": "code",
   "execution_count": 18,
   "id": "608aec82",
   "metadata": {},
   "outputs": [
    {
     "name": "stdout",
     "output_type": "stream",
     "text": [
      "\n",
      "Columns in the DataFrame:\n",
      "['category', 'total_quantity', 'total_amount']\n"
     ]
    },
    {
     "data": {
      "image/png": "[encoded data removed]",
      "text/plain": [
       "<Figure size 1000x600 with 1 Axes>"
      ]
     },
     "metadata": {},
     "output_type": "display_data"
    }
   ],
   "source": [
    "# Print the columns in the DataFrame\n",
    "print(\"\\nColumns in the DataFrame:\")\n",
    "print(sales_df.columns.tolist())   \n",
    "\n",
    "# Use the actual column names\n",
    "x_column = 'category'\n",
    "y_column = 'total_amount'\n",
    "\n",
    "# Validate columns exist\n",
    "if x_column not in sales_df.columns or y_column not in sales_df.columns:\n",
    "    print(f\"Error: Required columns '{x_column}' and '{y_column}' not found in the DataFrame.\")\n",
    "    exit()\n",
    "\n",
    "# Create the bar plot\n",
    "plt.figure(figsize=(10, 6))\n",
    "sns.barplot(x=x_column, y=y_column, data=sales_df)\n",
    "plt.xlabel(\"Product Category\")\n",
    "plt.ylabel(\"Total Sales Amount\")\n",
    "plt.title(\"Total Sales Amount by Product Category\")\n",
    "plt.xticks(rotation=45, ha='right')\n",
    "plt.tight_layout()\n",
    "plt.show()\n",
    "\n"
   ]
  },
  {
   "cell_type": "markdown",
   "id": "e4745166",
   "metadata": {},
   "source": [
    "## Step 99. Always Close the Database"
   ]
  },
  {
   "cell_type": "code",
   "execution_count": 19,
   "id": "ceec643b",
   "metadata": {},
   "outputs": [
    {
     "name": "stdout",
     "output_type": "stream",
     "text": [
      "Connection to DuckDB database closed.\n"
     ]
    }
   ],
   "source": [
    "# Final cleanup cell - after everything we want to do, be sure to close up. \n",
    "try:\n",
    "    if conn:\n",
    "        conn.close()\n",
    "        print(\"Connection to DuckDB database closed.\")\n",
    "except NameError:\n",
    "    print(\"No active connection found (already closed).\")\n"
   ]
  }
 ],
 "metadata": {
  "kernelspec": {
   "display_name": ".venv",
   "language": "python",
   "name": "python3"
  },
  "language_info": {
   "codemirror_mode": {
    "name": "ipython",
    "version": 3
   },
   "file_extension": ".py",
   "mimetype": "text/x-python",
   "name": "python",
   "nbconvert_exporter": "python",
   "pygments_lexer": "ipython3",
   "version": "3.12.4"
  }
 },
 "nbformat": 4,
 "nbformat_minor": 5
}
